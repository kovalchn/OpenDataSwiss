{
 "cells": [
  {
   "cell_type": "code",
   "execution_count": 1,
   "id": "1c2c576d",
   "metadata": {},
   "outputs": [],
   "source": [
    "#!/usr/bin/env python\n",
    "import json\n",
    "import pprint\n",
    "import requests     \n",
    "import pandas as pd "
   ]
  },
  {
   "cell_type": "code",
   "execution_count": 2,
   "id": "22b4034b",
   "metadata": {},
   "outputs": [],
   "source": [
    "# package list of the Swiss open data portal\n",
    "packages = 'https://ckan.opendata.swiss/api/3/action/package_list'"
   ]
  },
  {
   "cell_type": "code",
   "execution_count": 3,
   "id": "4625acf3",
   "metadata": {},
   "outputs": [],
   "source": [
    "# HTTP request\n",
    "response = requests.get(packages)\n",
    "\n",
    "#json module to load CKAN's response into a dictionary\n",
    "response_dict = json.loads(response.content)\n",
    "\n",
    "# Ccheck the contents of the response\n",
    "assert response_dict['success'] is True  # make sure if response is OK\n",
    "result = response_dict['result']         # packages extractions\n",
    "#pprint.pprint(result)                   "
   ]
  },
  {
   "cell_type": "code",
   "execution_count": 4,
   "id": "a8b4b85a",
   "metadata": {},
   "outputs": [],
   "source": [
    "def get_df_from_dicts(packages): #get pandas df with needed information from the packages\n",
    "    \n",
    "    # initialise number of datasets\n",
    "    datasetsnumber = 0\n",
    "    \n",
    "    # get url for package information\n",
    "    base_url = 'https://opendata.swiss/api/3/action/package_show?id='\n",
    "    temp = {} # build temporary dictionary \n",
    "\n",
    "    for package in packages:\n",
    "        # url for the package from the packages list\n",
    "        package_information_url = base_url + package\n",
    "\n",
    "        # the HTTP request\n",
    "        package_information = requests.get(package_information_url)\n",
    "\n",
    "        # json module to load CKAN's response into a dictionary\n",
    "        package_dict = json.loads(package_information.content)\n",
    "\n",
    "        # check the contents of the response\n",
    "        assert package_dict['success'] is True  # again make sure if response is OK\n",
    "        package_dict = package_dict['result']   # take'result' part from the dictionary\n",
    "        \n",
    "        # fill temporary dictionary with needed information \n",
    "        temp.setdefault('owner_org', []).append(package_dict.get(\"owner_org\", 0))\n",
    "        temp.setdefault('metadata_created', []).append(package_dict.get(\"metadata_created\", 0))\n",
    "        temp.setdefault('metadata_modified', []).append(package_dict.get(\"metadata_modified\", 0))\n",
    "        temp.setdefault('author', []).append(package_dict.get(\"author\", 0))\n",
    "        temp.setdefault('name', []).append(package_dict.get(\"name\", 0))\n",
    "       \n",
    "    # construct from pandas df from dictionary\n",
    "    df = pd.DataFrame(temp, \n",
    "               columns=['owner_org','metadata_created', 'metadata_modified','author','name']) \n",
    "    return df    \n",
    "   "
   ]
  },
  {
   "cell_type": "code",
   "execution_count": 5,
   "id": "a4190b08",
   "metadata": {},
   "outputs": [],
   "source": [
    "df=get_df_from_dicts(result)"
   ]
  },
  {
   "cell_type": "code",
   "execution_count": 6,
   "id": "e8a52c84",
   "metadata": {},
   "outputs": [],
   "source": [
    "# get extract year from datetime\n",
    "df['metadata_created'] = pd.to_datetime(df['metadata_created'])"
   ]
  },
  {
   "cell_type": "code",
   "execution_count": 7,
   "id": "8c601565",
   "metadata": {},
   "outputs": [],
   "source": [
    "df['year'] = df['metadata_created'].dt.year"
   ]
  },
  {
   "cell_type": "code",
   "execution_count": 8,
   "id": "ca060b6d",
   "metadata": {},
   "outputs": [
    {
     "data": {
      "text/html": [
       "<div>\n",
       "<style scoped>\n",
       "    .dataframe tbody tr th:only-of-type {\n",
       "        vertical-align: middle;\n",
       "    }\n",
       "\n",
       "    .dataframe tbody tr th {\n",
       "        vertical-align: top;\n",
       "    }\n",
       "\n",
       "    .dataframe thead th {\n",
       "        text-align: right;\n",
       "    }\n",
       "</style>\n",
       "<table border=\"1\" class=\"dataframe\">\n",
       "  <thead>\n",
       "    <tr style=\"text-align: right;\">\n",
       "      <th></th>\n",
       "      <th>owner_org</th>\n",
       "      <th>metadata_created</th>\n",
       "      <th>metadata_modified</th>\n",
       "      <th>author</th>\n",
       "      <th>name</th>\n",
       "      <th>year</th>\n",
       "    </tr>\n",
       "  </thead>\n",
       "  <tbody>\n",
       "    <tr>\n",
       "      <th>0</th>\n",
       "      <td>3d6d9295-0b90-48df-988c-68100e82b8c5</td>\n",
       "      <td>2016-01-29 16:16:11.320742</td>\n",
       "      <td>2021-08-23T00:35:58.262101</td>\n",
       "      <td>Bundesamt für Landwirtschaft</td>\n",
       "      <td>__</td>\n",
       "      <td>2016</td>\n",
       "    </tr>\n",
       "    <tr>\n",
       "      <th>1</th>\n",
       "      <td>aa742a0e-7ba4-4f65-ab9f-c587dec73891</td>\n",
       "      <td>2017-03-22 10:14:06.441259</td>\n",
       "      <td>2021-08-23T01:28:12.718340</td>\n",
       "      <td>Office cantonal de la culture et du sport</td>\n",
       "      <td>__1</td>\n",
       "      <td>2017</td>\n",
       "    </tr>\n",
       "    <tr>\n",
       "      <th>2</th>\n",
       "      <td>aa742a0e-7ba4-4f65-ab9f-c587dec73891</td>\n",
       "      <td>2017-03-30 07:19:29.752609</td>\n",
       "      <td>2021-08-23T01:40:02.004042</td>\n",
       "      <td>Office de l'urbanisme</td>\n",
       "      <td>__10</td>\n",
       "      <td>2017</td>\n",
       "    </tr>\n",
       "  </tbody>\n",
       "</table>\n",
       "</div>"
      ],
      "text/plain": [
       "                              owner_org           metadata_created  \\\n",
       "0  3d6d9295-0b90-48df-988c-68100e82b8c5 2016-01-29 16:16:11.320742   \n",
       "1  aa742a0e-7ba4-4f65-ab9f-c587dec73891 2017-03-22 10:14:06.441259   \n",
       "2  aa742a0e-7ba4-4f65-ab9f-c587dec73891 2017-03-30 07:19:29.752609   \n",
       "\n",
       "            metadata_modified                                     author  \\\n",
       "0  2021-08-23T00:35:58.262101               Bundesamt für Landwirtschaft   \n",
       "1  2021-08-23T01:28:12.718340  Office cantonal de la culture et du sport   \n",
       "2  2021-08-23T01:40:02.004042                      Office de l'urbanisme   \n",
       "\n",
       "   name  year  \n",
       "0    __  2016  \n",
       "1   __1  2017  \n",
       "2  __10  2017  "
      ]
     },
     "execution_count": 8,
     "metadata": {},
     "output_type": "execute_result"
    }
   ],
   "source": [
    "df.head(3)"
   ]
  },
  {
   "cell_type": "code",
   "execution_count": 25,
   "id": "41084891",
   "metadata": {},
   "outputs": [
    {
     "name": "stdout",
     "output_type": "stream",
     "text": [
      "The largest number of datasets uploaded to the opendata.swiss corresponds to the author\n",
      "BFS/OFS    862\n",
      "dtype: int64, where 862 is the number of datasets\n"
     ]
    },
    {
     "data": {
      "text/plain": [
       "author\n",
       "BFS/OFS                                            862\n",
       "Amt für Raumentwicklung und Geoinformation (SG)     89\n",
       "Kanton Thurgau, Amt für Geoinformation              62\n",
       "Geoinformation Stadt Bern                           35\n",
       "Statistik Stadt Zürich, Präsidialdepartement        31\n",
       "dtype: int64"
      ]
     },
     "execution_count": 25,
     "metadata": {},
     "output_type": "execute_result"
    }
   ],
   "source": [
    "# get df for the year 2020 only\n",
    "df_2020 = df[df.year == 2020]\n",
    "\n",
    "# get datasets added to opendata.swiss by different organisations in 2020\n",
    "ds_2020_authors = df_2020.pivot_table(columns=['author'], aggfunc='size')\n",
    "\n",
    "# show top 5 organisations that added the largest number of datasets \n",
    "print(f\"The largest number of datasets uploaded to the opendata.swiss corresponds to the {ds_2020_authors.nlargest(1)}, where {ds_2020_authors.max()} is the number of datasets\")\n",
    "ds_2020_authors.nlargest(5)\n"
   ]
  }
 ],
 "metadata": {
  "kernelspec": {
   "display_name": "Python 3",
   "language": "python",
   "name": "python3"
  },
  "language_info": {
   "codemirror_mode": {
    "name": "ipython",
    "version": 3
   },
   "file_extension": ".py",
   "mimetype": "text/x-python",
   "name": "python",
   "nbconvert_exporter": "python",
   "pygments_lexer": "ipython3",
   "version": "3.6.5"
  }
 },
 "nbformat": 4,
 "nbformat_minor": 5
}
